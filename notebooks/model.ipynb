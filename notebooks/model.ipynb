{
 "cells": [
  {
   "cell_type": "markdown",
   "source": [
    "# Model Code\n",
    "\n",
    "## Downloading the dataset:\n",
    "\n",
    "The following codecell downloads the dataset into a folder named `fashion_mnist_images` which is divided into a `test` and `train` directory which again contain subdirectories numbered 0 to 9, that correspond to the images class (clothing category)."
   ],
   "metadata": {
    "collapsed": false
   },
   "id": "b2bcd98e2cc9b8c8"
  },
  {
   "cell_type": "code",
   "execution_count": 18,
   "outputs": [
    {
     "name": "stdout",
     "output_type": "stream",
     "text": [
      "Downloading https://nnfs.io/datasets/fashion_mnist_images.zip and saving as fashion_mnist_images.zip...\n",
      "Unzipping images...\n",
      "Done!\n"
     ]
    }
   ],
   "source": [
    "import os\n",
    "import urllib.request\n",
    "from zipfile import ZipFile\n",
    "\n",
    "URL = 'https://nnfs.io/datasets/fashion_mnist_images.zip'\n",
    "FILE = 'fashion_mnist_images.zip'\n",
    "FOLDER = 'fashion_mnist_images'\n",
    "\n",
    "try:\n",
    "    if not os.path.isfile(FILE):\n",
    "        print(f'Downloading {URL} and saving as {FILE}...')\n",
    "        urllib.request.urlretrieve(URL, FILE)\n",
    "    else:\n",
    "        print(f'{FILE} already exists. Skipping download.')\n",
    "    \n",
    "    print('Unzipping images...')\n",
    "    with ZipFile(FILE, 'r') as zip_images:\n",
    "        zip_images.extractall(FOLDER)\n",
    "    print('Done!')\n",
    "except Exception as e:\n",
    "    print(f'An error occurred: {e}')\n"
   ],
   "metadata": {
    "collapsed": false,
    "ExecuteTime": {
     "end_time": "2024-07-28T10:46:38.997739Z",
     "start_time": "2024-07-28T10:46:16.302197Z"
    }
   },
   "id": "b8d58f19547a8150"
  },
  {
   "cell_type": "markdown",
   "source": [
    "## Data loading:\n",
    "\n",
    "Each image is 28x28 pixels and can be imported with `cv2` into a 2D-Array."
   ],
   "metadata": {
    "collapsed": false
   },
   "id": "f1a95020b8fa8515"
  },
  {
   "cell_type": "code",
   "execution_count": 22,
   "outputs": [
    {
     "data": {
      "text/plain": "<Figure size 640x480 with 1 Axes>",
      "image/png": "[encoded data removed]"
     },
     "metadata": {},
     "output_type": "display_data"
    }
   ],
   "source": [
    "import cv2\n",
    "image_data = cv2.imread('fashion_mnist_images/train/4/0011.png', cv2.IMREAD_UNCHANGED)\n",
    "import matplotlib.pyplot as plt\n",
    "plt.imshow(image_data, cmap='gray')\n",
    "plt.show()"
   ],
   "metadata": {
    "collapsed": false,
    "ExecuteTime": {
     "end_time": "2024-07-28T10:47:41.443451Z",
     "start_time": "2024-07-28T10:47:41.343248Z"
    }
   },
   "id": "f589e64761665b72"
  },
  {
   "cell_type": "markdown",
   "source": [
    "Now we create functions to return both the training and test datasets."
   ],
   "metadata": {
    "collapsed": false
   },
   "id": "a67335bee9ff0479"
  },
  {
   "cell_type": "code",
   "execution_count": 23,
   "outputs": [],
   "source": [
    "import numpy as np\n",
    "\n",
    "# Loads a MNIST dataset\n",
    "def load_mnist_dataset(dataset, path):\n",
    "    # Scan all the directories and create a list of labels\n",
    "    labels = os.listdir(os.path.join(path, dataset))\n",
    "    # Create lists for samples and labels\n",
    "    X = []\n",
    "    y = []\n",
    "    # For each label folder\n",
    "    for label in labels:\n",
    "        # And for each image in given folder\n",
    "        for file in os.listdir(os.path.join(path, dataset, label)):\n",
    "            # Read the image\n",
    "            image = cv2.imread(os.path.join(\n",
    "            path, dataset, label, file\n",
    "            ), cv2.IMREAD_UNCHANGED)\n",
    "            # And append it and a label to the lists\n",
    "            X.append(image)\n",
    "            y.append(label)\n",
    "    # Convert the data to proper numpy arrays and return\n",
    "    return np.array(X), np.array(y).astype('uint8')\n",
    "\n",
    "# MNIST dataset (train + test)\n",
    "def create_data_mnist(path):\n",
    "    # Load both sets separately\n",
    "    X, y = load_mnist_dataset('train', path)\n",
    "    X_test, y_test = load_mnist_dataset('test', path)\n",
    "    # And return all the data\n",
    "    return X, y, X_test, y_test"
   ],
   "metadata": {
    "collapsed": false,
    "ExecuteTime": {
     "end_time": "2024-07-29T11:09:12.059197Z",
     "start_time": "2024-07-29T11:09:12.028237Z"
    }
   },
   "id": "fc07214e5d99efe2"
  },
  {
   "cell_type": "markdown",
   "source": [
    "The datasets are saved to a training dataset (X, y) and testing dataset (X_test, y_test). We then scale them down to the range -1 to 1, before reshaping the input values to a 1D-array."
   ],
   "metadata": {
    "collapsed": false
   },
   "id": "48a21a51f0e5fb48"
  },
  {
   "cell_type": "code",
   "execution_count": 30,
   "outputs": [
    {
     "name": "stdout",
     "output_type": "stream",
     "text": [
      "(60000, 784)\n",
      "(60000,)\n"
     ]
    }
   ],
   "source": [
    "# Create dataset\n",
    "X, y, X_test, y_test = create_data_mnist('fashion_mnist_images')\n",
    "\n",
    "# Scale features (-1 to 1)\n",
    "X = (X.astype(np.float32) - 127.5) / 127.5\n",
    "X_test = (X_test.astype(np.float32) - 127.5) / 127.5\n",
    "\n",
    "# Reshape to vectors\n",
    "X = X.reshape(X.shape[0], -1)\n",
    "X_test = X_test.reshape(X_test.shape[0], -1)"
   ],
   "metadata": {
    "collapsed": false,
    "ExecuteTime": {
     "end_time": "2024-07-29T11:12:11.313670Z",
     "start_time": "2024-07-29T11:11:59.771583Z"
    }
   },
   "id": "fb3b1720279de447"
  },
  {
   "cell_type": "markdown",
   "source": [
    "The following code rearranges the dataset so it does not come class wise, but randomly."
   ],
   "metadata": {
    "collapsed": false
   },
   "id": "caec5f118e15086b"
  },
  {
   "cell_type": "code",
   "execution_count": null,
   "outputs": [],
   "source": [
    "keys = np.array(range(X.shape[0]))\n",
    "np.random.shuffle(keys)\n",
    "\n",
    "X = X[keys]\n",
    "y = y[keys]"
   ],
   "metadata": {
    "collapsed": false
   },
   "id": "e4197ad2f33098c6"
  },
  {
   "cell_type": "markdown",
   "source": [],
   "metadata": {
    "collapsed": false
   },
   "id": "7eb91f7e39a70773"
  },
  {
   "cell_type": "code",
   "execution_count": null,
   "outputs": [],
   "source": [
    "EPOCHS = 10\n",
    "BATCH_SIZE = 128 # We take 128 samples at once\n",
    "# Calculate number of steps\n",
    "steps = X.shape[0] // BATCH_SIZE\n",
    "# Dividing rounds down. If there are some remaining data,\n",
    "# but not a full batch, this won't include it.\n",
    "# Add 1 to include the remaining samples in 1 more step.\n",
    "if steps * BATCH_SIZE < X.shape[0]:\n",
    "    steps += 1\n",
    " \n",
    "for epoch in range(EPOCHS):\n",
    "    for step in range(steps):\n",
    "        batch_X = X[step*BATCH_SIZE:(step+1)*BATCH_SIZE]\n",
    "        batch_y = y[step*BATCH_SIZE:(step+1)*BATCH_SIZE]\n",
    " # Now we perform forward pass, loss calculation,\n",
    " # backward pass and update parameters"
   ],
   "metadata": {
    "collapsed": false
   },
   "id": "b47be7129877b56d"
  },
  {
   "cell_type": "code",
   "execution_count": null,
   "outputs": [],
   "source": [
    "# Instantiate the model\n",
    "model = Model()\n",
    "# Add layers\n",
    "model.add(Layer_Dense(X.shape[1], 128))\n",
    "model.add(Activation_ReLU())\n",
    "model.add(Layer_Dense(128, 128))\n",
    "model.add(Activation_ReLU())\n",
    "model.add(Layer_Dense(128, 10))\n",
    "model.add(Activation_Softmax())\n",
    "# Set loss, optimizer and accuracy objects\n",
    "model.set(\n",
    " loss=Loss_CategoricalCrossentropy(),\n",
    " optimizer=Optimizer_Adam(decay=1e-3),\n",
    " accuracy=Accuracy_Categorical()\n",
    ")\n",
    "# Finalize the model\n",
    "model.finalize()\n",
    "# Train the model\n",
    "model.train(X, y, validation_data=(X_test, y_test),\n",
    " epochs=10, batch_size=128, print_every=100)"
   ],
   "metadata": {
    "collapsed": false
   },
   "id": "ea96e5b8dd1dd8c2"
  }
 ],
 "metadata": {
  "kernelspec": {
   "display_name": "Python 3",
   "language": "python",
   "name": "python3"
  },
  "language_info": {
   "codemirror_mode": {
    "name": "ipython",
    "version": 2
   },
   "file_extension": ".py",
   "mimetype": "text/x-python",
   "name": "python",
   "nbconvert_exporter": "python",
   "pygments_lexer": "ipython2",
   "version": "2.7.6"
  }
 },
 "nbformat": 4,
 "nbformat_minor": 5
}

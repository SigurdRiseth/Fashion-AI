{
 "cells": [
  {
   "cell_type": "code",
   "execution_count": 10,
   "outputs": [
    {
     "name": "stdout",
     "output_type": "stream",
     "text": [
      "Downloading https://nnfs.io/datasets/fashion_mnist_images.zip and saving as fashion_mnist_images.zip...\n",
      "Unzipping images...\n",
      "Done!\n"
     ]
    }
   ],
   "source": [
    "import os\n",
    "import urllib.request\n",
    "from zipfile import ZipFile\n",
    "\n",
    "URL = 'https://nnfs.io/datasets/fashion_mnist_images.zip'\n",
    "FILE = 'fashion_mnist_images.zip'\n",
    "FOLDER = 'fashion_mnist_images'\n",
    "\n",
    "try:\n",
    "    if not os.path.isfile(FILE):\n",
    "        print(f'Downloading {URL} and saving as {FILE}...')\n",
    "        urllib.request.urlretrieve(URL, FILE)\n",
    "    else:\n",
    "        print(f'{FILE} already exists. Skipping download.')\n",
    "    \n",
    "    print('Unzipping images...')\n",
    "    with ZipFile(FILE, 'r') as zip_images:\n",
    "        zip_images.extractall(FOLDER)\n",
    "    print('Done!')\n",
    "except Exception as e:\n",
    "    print(f'An error occurred: {e}')\n"
   ],
   "metadata": {
    "collapsed": false,
    "ExecuteTime": {
     "end_time": "2024-07-28T10:25:13.460718Z",
     "start_time": "2024-07-28T10:24:50.992150Z"
    }
   },
   "id": "b8d58f19547a8150"
  },
  {
   "cell_type": "code",
   "execution_count": null,
   "outputs": [],
   "source": [],
   "metadata": {
    "collapsed": false
   },
   "id": "b258bae843c4665a"
  }
 ],
 "metadata": {
  "kernelspec": {
   "display_name": "Python 3",
   "language": "python",
   "name": "python3"
  },
  "language_info": {
   "codemirror_mode": {
    "name": "ipython",
    "version": 2
   },
   "file_extension": ".py",
   "mimetype": "text/x-python",
   "name": "python",
   "nbconvert_exporter": "python",
   "pygments_lexer": "ipython2",
   "version": "2.7.6"
  }
 },
 "nbformat": 4,
 "nbformat_minor": 5
}
